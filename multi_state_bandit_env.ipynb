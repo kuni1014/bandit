{
 "cells": [
  {
   "cell_type": "code",
   "execution_count": 513,
   "metadata": {},
   "outputs": [
    {
     "data": {
      "text/html": [
       "<style>\n",
       "    div#notebook-container    { width: 100%; }\n",
       "</style>"
      ],
      "text/plain": [
       "<IPython.core.display.HTML object>"
      ]
     },
     "metadata": {},
     "output_type": "display_data"
    }
   ],
   "source": [
    "%%HTML\n",
    "<style>\n",
    "    div#notebook-container    { width: 100%; }\n",
    "</style>"
   ]
  },
  {
   "cell_type": "code",
   "execution_count": 842,
   "metadata": {
    "collapsed": true
   },
   "outputs": [],
   "source": [
    "#%matplotlib notebook\n",
    "%matplotlib inline\n",
    "\n",
    "import numpy as np\n",
    "import seaborn as sns\n",
    "import matplotlib.pyplot as plt\n",
    "import random\n",
    "import math\n",
    "import tqdm\n",
    "import copy\n",
    "sns.set()\n",
    "plt.style.use('ggplot')"
   ]
  },
  {
   "cell_type": "code",
   "execution_count": 703,
   "metadata": {},
   "outputs": [
    {
     "name": "stdout",
     "output_type": "stream",
     "text": [
      "('[0]', 0, False)\n",
      "('[]', 1, True)\n",
      "('[]', 0, True)\n",
      "('[]', 0, True)\n"
     ]
    }
   ],
   "source": [
    "class BanditEnv():\n",
    "    def __init__(self, probs):\n",
    "        self.probs = probs\n",
    "        self.num_dim = probs.ndim\n",
    "        self.fast_state = \"[]\"\n",
    "        self.restart()\n",
    "        \n",
    "    def restart(self):\n",
    "        self.state = self.fast_state\n",
    "        return self.state\n",
    "        \n",
    "    def step(self, action):\n",
    "        list_state = eval(self.state)\n",
    "        list_state.append(action)\n",
    "        self.state = str(list_state)\n",
    "        \n",
    "        if len(list_state) >= self.num_dim: # 終端状態\n",
    "            self.restart()\n",
    "            p = eval(\"self.probs\" + str(list_state))\n",
    "            reward = np.random.choice([0, 1], p=[1-p, p])\n",
    "            is_end = True\n",
    "        else:\n",
    "            reward = 0\n",
    "            is_end = False\n",
    "            \n",
    "        return self.state, reward, is_end\n",
    "    \n",
    "probs = np.array([[0.9, 0.2, 0.5],\n",
    "             [0.2, 0.4, 0.1]])\n",
    "env = BanditEnv(probs)\n",
    "action = 0\n",
    "print(env.step(action))\n",
    "print(env.step(action))\n",
    "\n",
    "probs = np.array([0.1, 0.2, 0.3, 0.4, 0.5])\n",
    "env = BanditEnv(probs)\n",
    "action = 0\n",
    "print(env.step(action))\n",
    "print(env.step(action))"
   ]
  },
  {
   "cell_type": "code",
   "execution_count": 852,
   "metadata": {},
   "outputs": [],
   "source": [
    "class Agent():\n",
    "    def __init__(self, key_states, policy, alpha=0.1, gamma=0.9, epsilon=0.1):\n",
    "        self.policy = policy\n",
    "        self.alpha = alpha\n",
    "        self.gamma = gamma\n",
    "        self.epsilon = epsilon\n",
    "        \n",
    "        self.v = {}\n",
    "        for i in range(len(key_states)-1):\n",
    "            for key in key_states[i]:\n",
    "                self.v[str(key)] = np.zeros(num_actions[i])\n",
    "        self.n = copy.deepcopy(self.v)\n",
    "        self.w = copy.deepcopy(self.v)\n",
    "        \n",
    "    def select_action(self, state):\n",
    "        if policy == \"random\":\n",
    "            action = self.random(self.v[state])\n",
    "        if policy == \"greedy\":\n",
    "            action = self.greedy(self.v[state])\n",
    "        if policy == \"e_greedy\":\n",
    "            action = self.e_greedy(self.v[state])\n",
    "        return action\n",
    "    \n",
    "    def random(self, v):\n",
    "        return np.random.randint(len(v))\n",
    "    \n",
    "    def greedy(self, v):\n",
    "        return random.choice(np.where(v == np.max(v))[0])\n",
    "    \n",
    "    def e_greedy(self, v):\n",
    "        if random.random() > self.epsilon:\n",
    "            return self.greedy(v)\n",
    "        else:\n",
    "            return self.random(v)\n",
    "    \n",
    "    def lerning(self, state, action, reward, next_state, is_end):\n",
    "        \n",
    "        ### 平均\n",
    "#         self.n[state][action] += 1\n",
    "#         self.w[state][action] += reward\n",
    "#         self.v[state][action] = self.w[state][action] / self.n[state][action]\n",
    "        \n",
    "        ### Q値\n",
    "#         if is_end:\n",
    "#             next_v = 0\n",
    "#         else:\n",
    "#             next_action = self.greedy(self.v[next_state]) # off policy\n",
    "#             next_v = self.v[next_state][next_action]\n",
    "        \n",
    "#         self.n[state][action] += 1\n",
    "#         self.v[state][action] = self.v[state][action] + self.alpha * (reward + (self.gamma * next_v - self.v[state][action]))\n",
    "\n",
    "        ### 平均 and Q値\n",
    "        self.n[state][action] += 1\n",
    "        if is_end:\n",
    "            self.w[state][action] += reward\n",
    "            self.v[state][action] = self.w[state][action] / self.n[state][action]\n",
    "        else:\n",
    "            next_action = self.greedy(self.v[next_state]) # off policy\n",
    "            next_v = self.v[next_state][next_action]\n",
    "            self.v[state][action] = self.v[state][action] + self.alpha * (reward + (self.gamma * next_v - self.v[state][action]))\n",
    "        \n",
    "def create_key(num_actions, num_dim):\n",
    "    key_states = [[] for i in range(num_dim+1)]\n",
    "    key_states[0].append([])\n",
    "\n",
    "    for i in range(num_dim):\n",
    "        for j in key_states[i]:\n",
    "            for k in range(num_actions[i]):\n",
    "                key_states[i+1].append(j+[k])\n",
    "    return key_states"
   ]
  },
  {
   "cell_type": "code",
   "execution_count": 888,
   "metadata": {},
   "outputs": [
    {
     "name": "stdout",
     "output_type": "stream",
     "text": [
      "最大値: 0.9\n"
     ]
    },
    {
     "data": {
      "image/png": "[encoded data removed]",
      "text/plain": [
       "<Figure size 432x288 with 1 Axes>"
      ]
     },
     "metadata": {},
     "output_type": "display_data"
    },
    {
     "data": {
      "image/png": "[encoded data removed]",
      "text/plain": [
       "<Figure size 432x288 with 1 Axes>"
      ]
     },
     "metadata": {},
     "output_type": "display_data"
    }
   ],
   "source": [
    "probs = np.array([[0.9, 0.2, 0.5],\n",
    "            [0.2, 0.4, 0.1]])\n",
    "\n",
    "#probs = np.array([0.1, 0.2, 0.3, 0.4, 0.5])\n",
    "\n",
    "#probs = np.random.normal(loc=0.5, scale=0.1, size=(10,30,5))\n",
    "print(\"最大値:\", np.max(probs))\n",
    "\n",
    "policy = \"e_greedy\"\n",
    "\n",
    "num_actions = probs.shape\n",
    "num_dim = probs.ndim\n",
    "key_states = create_key(num_actions, num_dim)\n",
    "\n",
    "env = BanditEnv(probs)\n",
    "agent = Agent(key_states, policy, alpha=0.1, epsilon=0.7)\n",
    "state = env.restart()\n",
    "\n",
    "num_episode = 10000\n",
    "for i in range(num_episode):\n",
    "    is_end = False\n",
    "    while not(is_end):\n",
    "        action = agent.select_action(state)\n",
    "        next_state, reward, is_end = env.step(action)\n",
    "        agent.lerning(state, action, reward, next_state, is_end)\n",
    "        state = next_state\n",
    "        \n",
    "        \n",
    "f_probs = probs.flatten()\n",
    "sort_index = f_probs.argsort()\n",
    "f_probs.sort()\n",
    "\n",
    "end_v = []\n",
    "end_n = []\n",
    "for i in key_states[-2]: # 終端から一つ前のQ値\n",
    "    end_v.append(agent.v[str(i)])\n",
    "    end_n.append(agent.n[str(i)])\n",
    "end_v = np.array(end_v).flatten()\n",
    "end_n = np.array(end_n).flatten()\n",
    "\n",
    "sort_v = []\n",
    "sort_n = []\n",
    "for i in sort_index:\n",
    "    sort_v.append(end_v[i])\n",
    "    sort_n.append(end_n[i])\n",
    "    \n",
    "plt.plot(f_probs, label=\"prob\")\n",
    "plt.plot(sort_v, label=\"v\")\n",
    "plt.ylabel(\"win late\")\n",
    "plt.legend()\n",
    "plt.show()\n",
    "\n",
    "plt.plot(sort_n)\n",
    "plt.ylabel(\"n\")\n",
    "plt.show()"
   ]
  },
  {
   "cell_type": "code",
   "execution_count": 895,
   "metadata": {},
   "outputs": [
    {
     "data": {
      "image/svg+xml": [
       "<?xml version=\"1.0\" encoding=\"UTF-8\" standalone=\"no\"?>\n",
       "<!DOCTYPE svg PUBLIC \"-//W3C//DTD SVG 1.1//EN\"\n",
       " \"http://www.w3.org/Graphics/SVG/1.1/DTD/svg11.dtd\">\n",
       "<!-- Generated by graphviz version 2.40.1 (20161225.0304)\n",
       " -->\n",
       "<!-- Title: %3 Pages: 1 -->\n",
       "<svg width=\"383pt\" height=\"221pt\"\n",
       " viewBox=\"0.00 0.00 382.50 221.00\" xmlns=\"http://www.w3.org/2000/svg\" xmlns:xlink=\"http://www.w3.org/1999/xlink\">\n",
       "<g id=\"graph0\" class=\"graph\" transform=\"scale(1 1) rotate(0) translate(4 217)\">\n",
       "<title>%3</title>\n",
       "<polygon fill=\"#ffffff\" stroke=\"transparent\" points=\"-4,4 -4,-217 378.5,-217 378.5,4 -4,4\"/>\n",
       "<!-- [] -->\n",
       "<g id=\"node1\" class=\"node\">\n",
       "<title>[]</title>\n",
       "<polygon fill=\"#d3d3d3\" stroke=\"#000000\" points=\"201.5,-213 165.5,-213 165.5,-177 201.5,-177 201.5,-213\"/>\n",
       "<text text-anchor=\"middle\" x=\"183.5\" y=\"-191.3\" font-family=\"Times,serif\" font-size=\"14.00\" fill=\"#000000\">[]</text>\n",
       "</g>\n",
       "<!-- [0] -->\n",
       "<g id=\"node2\" class=\"node\">\n",
       "<title>[0]</title>\n",
       "<polygon fill=\"#d3d3d3\" stroke=\"#000000\" points=\"119.5,-126 83.5,-126 83.5,-90 119.5,-90 119.5,-126\"/>\n",
       "<text text-anchor=\"middle\" x=\"101.5\" y=\"-104.3\" font-family=\"Times,serif\" font-size=\"14.00\" fill=\"#000000\">[0]</text>\n",
       "</g>\n",
       "<!-- []&#45;&gt;[0] -->\n",
       "<g id=\"edge1\" class=\"edge\">\n",
       "<title>[]&#45;&gt;[0]</title>\n",
       "<path fill=\"none\" stroke=\"#000000\" d=\"M166.5095,-176.9735C154.6353,-164.3752 138.6125,-147.3755 125.4454,-133.4055\"/>\n",
       "<polygon fill=\"#000000\" stroke=\"#000000\" points=\"127.8746,-130.8799 118.4687,-126.0034 122.7806,-135.6811 127.8746,-130.8799\"/>\n",
       "<text text-anchor=\"middle\" x=\"171.5\" y=\"-147.8\" font-family=\"Times,serif\" font-size=\"14.00\" fill=\"#000000\">0.80833943</text>\n",
       "</g>\n",
       "<!-- [1] -->\n",
       "<g id=\"node3\" class=\"node\">\n",
       "<title>[1]</title>\n",
       "<polygon fill=\"#d3d3d3\" stroke=\"#000000\" points=\"261.5,-126 225.5,-126 225.5,-90 261.5,-90 261.5,-126\"/>\n",
       "<text text-anchor=\"middle\" x=\"243.5\" y=\"-104.3\" font-family=\"Times,serif\" font-size=\"14.00\" fill=\"#000000\">[1]</text>\n",
       "</g>\n",
       "<!-- []&#45;&gt;[1] -->\n",
       "<g id=\"edge2\" class=\"edge\">\n",
       "<title>[]&#45;&gt;[1]</title>\n",
       "<path fill=\"none\" stroke=\"#000000\" d=\"M195.932,-176.9735C204.3792,-164.7252 215.6955,-148.3165 225.1713,-134.5766\"/>\n",
       "<polygon fill=\"#000000\" stroke=\"#000000\" points=\"228.2878,-136.2226 231.0839,-126.0034 222.5253,-132.2484 228.2878,-136.2226\"/>\n",
       "<text text-anchor=\"middle\" x=\"241.5\" y=\"-147.8\" font-family=\"Times,serif\" font-size=\"14.00\" fill=\"#000000\">0.34423584</text>\n",
       "</g>\n",
       "<!-- [0, 0] -->\n",
       "<g id=\"node4\" class=\"node\">\n",
       "<title>[0, 0]</title>\n",
       "<polygon fill=\"#d3d3d3\" stroke=\"#000000\" points=\"39,-39 0,-39 0,0 39,0 39,-39\"/>\n",
       "<text text-anchor=\"middle\" x=\"19.5\" y=\"-15.8\" font-family=\"Times,serif\" font-size=\"14.00\" fill=\"#000000\">[0, 0]</text>\n",
       "</g>\n",
       "<!-- [0]&#45;&gt;[0, 0] -->\n",
       "<g id=\"edge3\" class=\"edge\">\n",
       "<title>[0]&#45;&gt;[0, 0]</title>\n",
       "<path fill=\"none\" stroke=\"#000000\" d=\"M83.3313,-102.165C68.7355,-96.5967 48.7211,-86.8353 36.5,-72 31.1033,-65.4489 27.4058,-57.1445 24.8779,-49.0848\"/>\n",
       "<polygon fill=\"#000000\" stroke=\"#000000\" points=\"28.1944,-47.935 22.2614,-39.1573 21.4256,-49.7191 28.1944,-47.935\"/>\n",
       "<text text-anchor=\"middle\" x=\"61.5\" y=\"-60.8\" font-family=\"Times,serif\" font-size=\"14.00\" fill=\"#000000\">0.89824662</text>\n",
       "</g>\n",
       "<!-- [0, 1] -->\n",
       "<g id=\"node5\" class=\"node\">\n",
       "<title>[0, 1]</title>\n",
       "<polygon fill=\"#d3d3d3\" stroke=\"#000000\" points=\"102,-39 63,-39 63,0 102,0 102,-39\"/>\n",
       "<text text-anchor=\"middle\" x=\"82.5\" y=\"-15.8\" font-family=\"Times,serif\" font-size=\"14.00\" fill=\"#000000\">[0, 1]</text>\n",
       "</g>\n",
       "<!-- [0]&#45;&gt;[0, 1] -->\n",
       "<g id=\"edge4\" class=\"edge\">\n",
       "<title>[0]&#45;&gt;[0, 1]</title>\n",
       "<path fill=\"none\" stroke=\"#000000\" d=\"M97.5632,-89.6627C95.034,-77.8819 91.6925,-62.3176 88.7994,-48.842\"/>\n",
       "<polygon fill=\"#000000\" stroke=\"#000000\" points=\"92.2165,-48.0841 86.6954,-39.0415 85.3725,-49.5535 92.2165,-48.0841\"/>\n",
       "<text text-anchor=\"middle\" x=\"100.5\" y=\"-60.8\" font-family=\"Times,serif\" font-size=\"14.00\" fill=\"#000000\">0.2</text>\n",
       "</g>\n",
       "<!-- [0, 2] -->\n",
       "<g id=\"node6\" class=\"node\">\n",
       "<title>[0, 2]</title>\n",
       "<polygon fill=\"#d3d3d3\" stroke=\"#000000\" points=\"159,-39 120,-39 120,0 159,0 159,-39\"/>\n",
       "<text text-anchor=\"middle\" x=\"139.5\" y=\"-15.8\" font-family=\"Times,serif\" font-size=\"14.00\" fill=\"#000000\">[0, 2]</text>\n",
       "</g>\n",
       "<!-- [0]&#45;&gt;[0, 2] -->\n",
       "<g id=\"edge5\" class=\"edge\">\n",
       "<title>[0]&#45;&gt;[0, 2]</title>\n",
       "<path fill=\"none\" stroke=\"#000000\" d=\"M109.3736,-89.6627C114.4816,-77.7664 121.2462,-62.0121 127.0711,-48.4463\"/>\n",
       "<polygon fill=\"#000000\" stroke=\"#000000\" points=\"130.3798,-49.6112 131.1093,-39.0415 123.9477,-46.8494 130.3798,-49.6112\"/>\n",
       "<text text-anchor=\"middle\" x=\"147.5\" y=\"-60.8\" font-family=\"Times,serif\" font-size=\"14.00\" fill=\"#000000\">0.50689429</text>\n",
       "</g>\n",
       "<!-- [1, 0] -->\n",
       "<g id=\"node7\" class=\"node\">\n",
       "<title>[1, 0]</title>\n",
       "<polygon fill=\"#d3d3d3\" stroke=\"#000000\" points=\"227,-39 188,-39 188,0 227,0 227,-39\"/>\n",
       "<text text-anchor=\"middle\" x=\"207.5\" y=\"-15.8\" font-family=\"Times,serif\" font-size=\"14.00\" fill=\"#000000\">[1, 0]</text>\n",
       "</g>\n",
       "<!-- [1]&#45;&gt;[1, 0] -->\n",
       "<g id=\"edge6\" class=\"edge\">\n",
       "<title>[1]&#45;&gt;[1, 0]</title>\n",
       "<path fill=\"none\" stroke=\"#000000\" d=\"M225.1965,-94.1884C218.6692,-88.1656 212.0571,-80.5278 208.5,-72 205.5564,-64.9431 204.4343,-56.8747 204.2561,-49.2152\"/>\n",
       "<polygon fill=\"#000000\" stroke=\"#000000\" points=\"207.7565,-49.2443 204.5158,-39.1572 200.7588,-49.0635 207.7565,-49.2443\"/>\n",
       "<text text-anchor=\"middle\" x=\"233.5\" y=\"-60.8\" font-family=\"Times,serif\" font-size=\"14.00\" fill=\"#000000\">0.20689655</text>\n",
       "</g>\n",
       "<!-- [1, 1] -->\n",
       "<g id=\"node8\" class=\"node\">\n",
       "<title>[1, 1]</title>\n",
       "<polygon fill=\"#d3d3d3\" stroke=\"#000000\" points=\"300,-39 261,-39 261,0 300,0 300,-39\"/>\n",
       "<text text-anchor=\"middle\" x=\"280.5\" y=\"-15.8\" font-family=\"Times,serif\" font-size=\"14.00\" fill=\"#000000\">[1, 1]</text>\n",
       "</g>\n",
       "<!-- [1]&#45;&gt;[1, 1] -->\n",
       "<g id=\"edge7\" class=\"edge\">\n",
       "<title>[1]&#45;&gt;[1, 1]</title>\n",
       "<path fill=\"none\" stroke=\"#000000\" d=\"M251.1664,-89.6627C256.14,-77.7664 262.7266,-62.0121 268.3982,-48.4463\"/>\n",
       "<polygon fill=\"#000000\" stroke=\"#000000\" points=\"271.7019,-49.6177 272.3301,-39.0415 265.2436,-46.9176 271.7019,-49.6177\"/>\n",
       "<text text-anchor=\"middle\" x=\"286\" y=\"-60.8\" font-family=\"Times,serif\" font-size=\"14.00\" fill=\"#000000\">0.3825431</text>\n",
       "</g>\n",
       "<!-- [1, 2] -->\n",
       "<g id=\"node9\" class=\"node\">\n",
       "<title>[1, 2]</title>\n",
       "<polygon fill=\"#d3d3d3\" stroke=\"#000000\" points=\"368,-39 329,-39 329,0 368,0 368,-39\"/>\n",
       "<text text-anchor=\"middle\" x=\"348.5\" y=\"-15.8\" font-family=\"Times,serif\" font-size=\"14.00\" fill=\"#000000\">[1, 2]</text>\n",
       "</g>\n",
       "<!-- [1]&#45;&gt;[1, 2] -->\n",
       "<g id=\"edge8\" class=\"edge\">\n",
       "<title>[1]&#45;&gt;[1, 2]</title>\n",
       "<path fill=\"none\" stroke=\"#000000\" d=\"M261.6905,-101.3892C276.5322,-95.3593 297.4351,-85.355 312.5,-72 320.2336,-65.1441 327.121,-56.2915 332.7484,-47.8157\"/>\n",
       "<polygon fill=\"#000000\" stroke=\"#000000\" points=\"335.7918,-49.5505 338.1393,-39.219 329.8614,-45.8315 335.7918,-49.5505\"/>\n",
       "<text text-anchor=\"middle\" x=\"349.5\" y=\"-60.8\" font-family=\"Times,serif\" font-size=\"14.00\" fill=\"#000000\">0.09700599</text>\n",
       "</g>\n",
       "</g>\n",
       "</svg>\n"
      ],
      "text/plain": [
       "<graphviz.dot.Digraph at 0x10ce36c50>"
      ]
     },
     "execution_count": 895,
     "metadata": {},
     "output_type": "execute_result"
    }
   ],
   "source": [
    "from graphviz import Digraph\n",
    "\n",
    "G = Digraph(format=\"png\")\n",
    "G.attr(\"node\", shape=\"square\", style=\"filled\")\n",
    "G.edge(\"[]\",\"[0]\",label=\"0.80833943\")\n",
    "G.edge(\"[]\",\"[1]\",label=\"0.34423584\")\n",
    "G.edge(\"[0]\",\"[0, 0]\",label=\"0.89824662\")\n",
    "G.edge(\"[0]\",\"[0, 1]\",label=\"0.2\")\n",
    "G.edge(\"[0]\",\"[0, 2]\",label=\"0.50689429\")\n",
    "G.edge(\"[1]\",\"[1, 0]\",label=\"0.20689655\")\n",
    "G.edge(\"[1]\",\"[1, 1]\",label=\"0.3825431\")\n",
    "G.edge(\"[1]\",\"[1, 2]\",label=\"0.09700599\")\n",
    "#G.render(\"graphs\")\n",
    "G"
   ]
  },
  {
   "cell_type": "code",
   "execution_count": 889,
   "metadata": {},
   "outputs": [
    {
     "data": {
      "text/plain": [
       "{'[0]': array([0.89824662, 0.2       , 0.50689429]),\n",
       " '[1]': array([0.20689655, 0.3825431 , 0.09700599]),\n",
       " '[]': array([0.80833943, 0.34423584])}"
      ]
     },
     "execution_count": 889,
     "metadata": {},
     "output_type": "execute_result"
    }
   ],
   "source": [
    "agent.v"
   ]
  },
  {
   "cell_type": "code",
   "execution_count": 660,
   "metadata": {},
   "outputs": [
    {
     "name": "stdout",
     "output_type": "stream",
     "text": [
      "(2, 3, 5)\n",
      "3\n"
     ]
    }
   ],
   "source": [
    "print(probs.shape)\n",
    "print(probs.ndim)\n",
    "num_actions = probs.shape\n",
    "num_dim = probs.ndim\n",
    "\n",
    "def create_key(num_actions, num_dim):\n",
    "    key_states = [[] for i in range(num_dim+1)]\n",
    "    key_states[0].append([])\n",
    "\n",
    "    for i in range(num_dim):\n",
    "        for j in key_states[i]:\n",
    "            for k in range(num_actions[i]):\n",
    "                key_states[i+1].append(j+[k])\n",
    "    return key_states\n",
    "\n",
    "key_states = create_key(num_actions, num_dim)"
   ]
  },
  {
   "cell_type": "code",
   "execution_count": 695,
   "metadata": {},
   "outputs": [
    {
     "data": {
      "text/plain": [
       "{'[0, 0]': array([0., 0., 0., 0., 0.]),\n",
       " '[0, 1]': array([0., 0., 0., 0., 0.]),\n",
       " '[0, 2]': array([0., 0., 0., 0., 0.]),\n",
       " '[0]': array([0., 0., 0.]),\n",
       " '[1, 0]': array([0., 0., 0., 0., 0.]),\n",
       " '[1, 1]': array([0., 0., 0., 0., 0.]),\n",
       " '[1, 2]': array([0., 0., 0., 0., 0.]),\n",
       " '[1]': array([0., 0., 0.]),\n",
       " '[]': array([0., 0.])}"
      ]
     },
     "execution_count": 695,
     "metadata": {},
     "output_type": "execute_result"
    }
   ],
   "source": [
    "v = {}\n",
    "for i in range(num_dim):\n",
    "    for key in key_states[i]:\n",
    "        v[str(key)] = np.zeros(num_actions[i])\n",
    "        \n",
    "v"
   ]
  },
  {
   "cell_type": "code",
   "execution_count": 725,
   "metadata": {},
   "outputs": [
    {
     "data": {
      "text/plain": [
       "{'[0, 0]': array([0.29820642, 0.30195557, 0.17211747, 0.21428182, 0.27313087]),\n",
       " '[0, 1]': array([0.18620635, 0.55726257, 0.22701471, 0.28982597, 0.18532992]),\n",
       " '[0, 2]': array([0.53811207, 0.50186726, 0.5085829 , 0.29874869, 0.76341667]),\n",
       " '[0]': array([0.34523748, 0.46780913, 0.60641515]),\n",
       " '[1, 0]': array([0.        , 0.        , 0.        , 0.38223856, 0.04782969]),\n",
       " '[1, 1]': array([0.1       , 0.        , 0.081     , 0.16710684, 0.081     ]),\n",
       " '[1, 2]': array([0.30467142, 0.47156967, 0.17018765, 0.28879007, 0.20547242]),\n",
       " '[1]': array([0.38843564, 0.26723911, 0.35452157]),\n",
       " '[]': array([0.54363315, 0.35160058])}"
      ]
     },
     "execution_count": 725,
     "metadata": {},
     "output_type": "execute_result"
    }
   ],
   "source": [
    "agent.v[]"
   ]
  },
  {
   "cell_type": "code",
   "execution_count": 740,
   "metadata": {},
   "outputs": [
    {
     "name": "stdout",
     "output_type": "stream",
     "text": [
      "[0, 0] [0.29820642 0.30195557 0.17211747 0.21428182 0.27313087]\n",
      "[0, 1] [0.18620635 0.55726257 0.22701471 0.28982597 0.18532992]\n",
      "[0, 2] [0.53811207 0.50186726 0.5085829  0.29874869 0.76341667]\n",
      "[1, 0] [0.         0.         0.         0.38223856 0.04782969]\n",
      "[1, 1] [0.1        0.         0.081      0.16710684 0.081     ]\n",
      "[1, 2] [0.30467142 0.47156967 0.17018765 0.28879007 0.20547242]\n"
     ]
    },
    {
     "data": {
      "text/plain": [
       "array([0.29820642, 0.30195557, 0.17211747, 0.21428182, 0.27313087,\n",
       "       0.18620635, 0.55726257, 0.22701471, 0.28982597, 0.18532992,\n",
       "       0.53811207, 0.50186726, 0.5085829 , 0.29874869, 0.76341667,\n",
       "       0.        , 0.        , 0.        , 0.38223856, 0.04782969,\n",
       "       0.1       , 0.        , 0.081     , 0.16710684, 0.081     ,\n",
       "       0.30467142, 0.47156967, 0.17018765, 0.28879007, 0.20547242])"
      ]
     },
     "execution_count": 740,
     "metadata": {},
     "output_type": "execute_result"
    }
   ],
   "source": [
    "a = []\n",
    "for i in key_states[-2]:\n",
    "    print(i, agent.v[str(i)])\n",
    "    a.append(agent.v[str(i)])\n",
    "a = np.array(a).flatten()\n",
    "a"
   ]
  },
  {
   "cell_type": "code",
   "execution_count": 871,
   "metadata": {},
   "outputs": [
    {
     "data": {
      "image/png": "[encoded data removed]",
      "text/plain": [
       "<Figure size 432x288 with 1 Axes>"
      ]
     },
     "metadata": {},
     "output_type": "display_data"
    }
   ],
   "source": [
    "f_probs = probs.flatten()\n",
    "sort_index = f_probs.argsort()\n",
    "f_probs.sort()\n",
    "\n",
    "end_v = []\n",
    "for i in key_states[-2]: # 終端から一つ前のQ値\n",
    "    end_v.append(agent.v[str(i)])\n",
    "end_v = np.array(end_v).flatten()\n",
    "\n",
    "sort_v = []\n",
    "for i in sort_index:\n",
    "    sort_v.append(end_v[i])\n",
    "    \n",
    "plt.plot(f_probs)\n",
    "plt.plot(sort_v)\n",
    "plt.show()"
   ]
  },
  {
   "cell_type": "code",
   "execution_count": 865,
   "metadata": {},
   "outputs": [
    {
     "data": {
      "image/png": "[encoded data removed]",
      "text/plain": [
       "<Figure size 432x288 with 1 Axes>"
      ]
     },
     "metadata": {},
     "output_type": "display_data"
    }
   ],
   "source": [
    "plt.plot(f_probs)\n",
    "plt.plot(sort_v)\n",
    "plt.show()"
   ]
  },
  {
   "cell_type": "code",
   "execution_count": 839,
   "metadata": {},
   "outputs": [
    {
     "name": "stdout",
     "output_type": "stream",
     "text": [
      "[0.9 0.2 0.5 0.2 0.4 0.1]\n",
      "[5 1 3 4 2 0]\n",
      "[0.1, 0.2, 0.2, 0.4, 0.5, 0.9]\n"
     ]
    }
   ],
   "source": [
    "f_probs = probs.flatten()\n",
    "print(f_probs)\n",
    "sort_index = f_probs.argsort()\n",
    "print(sort_index)\n",
    "\n",
    "a = []\n",
    "for i in sort_index:\n",
    "    a.append(f_probs[i])\n",
    "print(a)"
   ]
  },
  {
   "cell_type": "code",
   "execution_count": 826,
   "metadata": {},
   "outputs": [
    {
     "data": {
      "text/plain": [
       "array([5, 1, 3, 4, 2, 0])"
      ]
     },
     "execution_count": 826,
     "metadata": {},
     "output_type": "execute_result"
    }
   ],
   "source": [
    "a = np.array([0.9, 0.2, 0.5, 0.2, 0.4, 0.1])\n",
    "a.argsort()"
   ]
  },
  {
   "cell_type": "code",
   "execution_count": 836,
   "metadata": {},
   "outputs": [
    {
     "data": {
      "text/plain": [
       "array([0, 2, 3, 1])"
      ]
     },
     "execution_count": 836,
     "metadata": {},
     "output_type": "execute_result"
    }
   ],
   "source": [
    "a = np.array([0.2, 0.5, 0.3, 0.4])\n",
    "a.argsort()"
   ]
  },
  {
   "cell_type": "code",
   "execution_count": 3,
   "metadata": {
    "collapsed": true
   },
   "outputs": [],
   "source": [
    "def graph_plot(ax, array, xlabel, ylabel, label=None):\n",
    "    ax.set_xlabel(xlabel)\n",
    "    ax.set_ylabel(ylabel)\n",
    "    if array.ndim == 1:\n",
    "        if label != None:\n",
    "            ax.plot(array, label=label)\n",
    "            ax.legend()\n",
    "        else:\n",
    "            ax.plot(array)\n",
    "    else:\n",
    "        for k in range(len(array)):\n",
    "            ax.plot(array[k], label=k)\n",
    "        ax.legend()"
   ]
  },
  {
   "cell_type": "code",
   "execution_count": 4,
   "metadata": {
    "collapsed": true
   },
   "outputs": [],
   "source": [
    "class Bandit():\n",
    "    def __init__(self, p):\n",
    "        self.p = p\n",
    "    def step(self, action):\n",
    "        if self.p[action] >= random.random():\n",
    "            reward = 1\n",
    "        else:\n",
    "            reward = 0\n",
    "        return reward"
   ]
  },
  {
   "cell_type": "code",
   "execution_count": 5,
   "metadata": {
    "collapsed": true
   },
   "outputs": [],
   "source": [
    "def greedy(v):\n",
    "    index = np.where(v == max(v))[0]\n",
    "    return random.choice(index)\n",
    "\n",
    "def e_greedy(v, eps):\n",
    "    if random.random() > eps:\n",
    "        return greedy(v)\n",
    "    else:\n",
    "        return random.randint(0, len(v) - 1)\n",
    "\n",
    "class BanditAgent():\n",
    "    def __init__(self, n_action, policy, exploration_eps, final_eps):\n",
    "        self.v = np.zeros(n_action)\n",
    "        self.n = np.zeros(n_action)\n",
    "        self.sum_rew = np.zeros(n_action)\n",
    "        self.policy = policy\n",
    "        self.eps = 0\n",
    "        self.exploration_eps = exploration_eps\n",
    "        self.final_eps = final_eps\n",
    "\n",
    "        self.aleph = 0.55\n",
    "        \n",
    "    def choice_action(self, e):\n",
    "        if policy == \"greedy\":\n",
    "            action = greedy(self.v)\n",
    "        if policy == \"e_greedy\":\n",
    "            action = e_greedy(self.v, self.eps)\n",
    "            self.update_eps(e)\n",
    "        if policy == \"rs\":\n",
    "            action = self.rs()\n",
    "        else:\n",
    "            print(\"policy error\")\n",
    "        return action\n",
    "    \n",
    "    def update(self, action, reward):\n",
    "        self.n[action] += 1\n",
    "        self.sum_rew[action] += reward\n",
    "        self.v[action] = self.sum_rew[action] / self.n[action]\n",
    "    \n",
    "    def update_eps(self, e):\n",
    "        self.eps = max(self.final_eps, 1 - e / (self.exploration_eps) * (1 - self.final_eps))\n",
    "        \n",
    "    def rs(self):\n",
    "        rs_value = self.n * (self.v - self.aleph)\n",
    "        return greedy(rs_value)"
   ]
  },
  {
   "cell_type": "code",
   "execution_count": 10,
   "metadata": {},
   "outputs": [
    {
     "data": {
      "image/png": "[encoded data removed]",
      "text/plain": [
       "<Figure size 1080x1080 with 5 Axes>"
      ]
     },
     "metadata": {},
     "output_type": "display_data"
    }
   ],
   "source": [
    "p = [0, 0.4, 0.1, 0.6, 0.5]\n",
    "n_action = len(p)\n",
    "max_p = max(p)\n",
    "\n",
    "n_epi = 1000\n",
    "n_sim = 10\n",
    "policy = \"rs\"\n",
    "\n",
    "exploration_eps = 0.5\n",
    "final_eps = 0\n",
    "\n",
    "if exploration_eps < 1:\n",
    "    exploration_eps = n_epi * exploration_eps\n",
    "\n",
    "# グラフ初期化\n",
    "graph_reward = np.zeros(n_epi)\n",
    "graph_regret = np.zeros(n_epi)\n",
    "graph_v = np.zeros([n_epi, n_action])\n",
    "graph_n = np.zeros([n_epi, n_action])\n",
    "graph_eps = np.zeros(n_epi)\n",
    "\n",
    "env = Bandit(np.array(p))\n",
    "\n",
    "for s in range(n_sim):\n",
    "    agent = BanditAgent(n_action, policy, exploration_eps, final_eps)\n",
    "    regret = 0\n",
    "    \n",
    "    for e in range(n_epi):\n",
    "        action = agent.choice_action(e)\n",
    "        reward = env.step(action)\n",
    "        agent.update(action, reward)\n",
    "\n",
    "        # グラフ更新\n",
    "        graph_reward[e] += reward / n_sim\n",
    "        regret += max_p - env.p[action]\n",
    "        graph_regret[e] += regret / n_sim\n",
    "        graph_v[e] = agent.v # 価値のみはシミュレーションの平均をとっても意味ないので1シミュレーション分\n",
    "        graph_n[e] = agent.n\n",
    "        graph_eps[e] = agent.eps\n",
    "        \n",
    "fig = plt.figure(figsize=(15,15))\n",
    "ax1 = plt.subplot2grid((3,2), (0,0))\n",
    "ax2 = plt.subplot2grid((3,2), (0,1))\n",
    "ax3 = plt.subplot2grid((3,2), (1,0))\n",
    "ax4 = plt.subplot2grid((3,2), (1,1))\n",
    "ax5 = plt.subplot2grid((3,2), (2,0))\n",
    "\n",
    "graph_plot(ax1, graph_reward, \"episode\", \"reward\")\n",
    "graph_plot(ax2, graph_regret, \"episode\", \"regret\")\n",
    "graph_plot(ax3, graph_v.transpose(), \"episode\", \"v\")\n",
    "graph_plot(ax4, graph_n.transpose(), \"episode\", \"n\")\n",
    "graph_plot(ax5, graph_eps, \"episode\", \"eps\")"
   ]
  },
  {
   "cell_type": "code",
   "execution_count": 154,
   "metadata": {},
   "outputs": [
    {
     "name": "stdout",
     "output_type": "stream",
     "text": [
      "[ 86 121 201 602]\n",
      "[0.08514851 0.11980198 0.1990099  0.5960396 ]\n"
     ]
    },
    {
     "data": {
      "text/plain": [
       "array([0.08522727, 0.11931818, 0.19886364, 0.59659091])"
      ]
     },
     "execution_count": 154,
     "metadata": {},
     "output_type": "execute_result"
    }
   ],
   "source": [
    "aleph = 0.8\n",
    "q = np.array([0.1, 0.3, 0.5, 0.7])\n",
    "n = np.array([0, 0, 0, 0])\n",
    "\n",
    "for i in range(1000):\n",
    "    rs_value = n * (q - aleph)\n",
    "    action = greedy(rs_value)\n",
    "    n[action] += 1\n",
    "    \n",
    "print(n)\n",
    "print(n / np.sum(n))\n",
    "delta = aleph - q\n",
    "1 / (np.sum(1 / delta) * delta)\n",
    "\n"
   ]
  },
  {
   "cell_type": "code",
   "execution_count": 142,
   "metadata": {},
   "outputs": [
    {
     "data": {
      "text/plain": [
       "array([0.48, 0.24, 0.16, 0.12])"
      ]
     },
     "execution_count": 142,
     "metadata": {},
     "output_type": "execute_result"
    }
   ],
   "source": [
    "delta = aleph - q\n",
    "delta = np.array([1, 2, 3, 4])\n",
    "((1 / delta) / np.sum(delta)) / np.sum((1 / delta) / np.sum(delta))  "
   ]
  },
  {
   "cell_type": "code",
   "execution_count": 205,
   "metadata": {},
   "outputs": [
    {
     "name": "stdout",
     "output_type": "stream",
     "text": [
      "rs_p [0.27 0.   0.15 0.58]\n",
      "[27 50 45 68]\n",
      "[0.14210526 0.26315789 0.23684211 0.35789474]\n",
      "[27  0 15 58]\n",
      "[0.27 0.   0.15 0.58]\n",
      "ratio [0.15584416 0.19480519 0.25974026 0.38961039]\n"
     ]
    }
   ],
   "source": [
    "aleph = 0.6\n",
    "q = np.array([0.1, 0.2, 0.3, 0.4])\n",
    "n = np.array([0, 50, 30, 10])\n",
    "fast_n = np.copy(n)\n",
    "\n",
    "def rs_p(q, n, aleph, step):\n",
    "    tmp_n = np.copy(n)\n",
    "    for i in range(step):\n",
    "        rs_value = tmp_n * (q - aleph)\n",
    "        action = np.argmax(rs_value)\n",
    "        tmp_n[action] += 1\n",
    "    return (tmp_n - n) / np.sum(tmp_n - n)\n",
    "\n",
    "print(\"rs_p\", rs_p(q, n, aleph, 100))\n",
    "\n",
    "for i in range(100):\n",
    "    rs_value = n * (q - aleph)\n",
    "    action = greedy(rs_value)\n",
    "    n[action] += 1\n",
    "    \n",
    "print(n)\n",
    "print(n / np.sum(n))\n",
    "\n",
    "print(n - fast_n)\n",
    "print((n - fast_n) / np.sum(n - fast_n))\n",
    "delta = aleph - q\n",
    "\n",
    "ratio = 1 / (np.sum(1 / delta) * delta)\n",
    "print(\"ratio\", ratio)"
   ]
  },
  {
   "cell_type": "code",
   "execution_count": 141,
   "metadata": {},
   "outputs": [
    {
     "data": {
      "text/plain": [
       "array([0.08522727, 0.11931818, 0.19886364, 0.59659091])"
      ]
     },
     "execution_count": 141,
     "metadata": {},
     "output_type": "execute_result"
    }
   ],
   "source": [
    "1 / ((delta * np.sum(delta)) * np.sum(1 / ((delta * np.sum(delta)))))"
   ]
  },
  {
   "cell_type": "code",
   "execution_count": 107,
   "metadata": {},
   "outputs": [
    {
     "data": {
      "text/plain": [
       "array([0.45454545, 0.36363636, 0.09090909, 0.09090909])"
      ]
     },
     "execution_count": 107,
     "metadata": {},
     "output_type": "execute_result"
    }
   ],
   "source": [
    "1/3"
   ]
  },
  {
   "cell_type": "code",
   "execution_count": 227,
   "metadata": {},
   "outputs": [
    {
     "name": "stdout",
     "output_type": "stream",
     "text": [
      "5.187377517639621\n"
     ]
    }
   ],
   "source": [
    "class Ref(object):\n",
    "    def __init__(self, value=None):\n",
    "        self.value = value\n",
    "\n",
    "def harmonic_sum(i, lo, hi, term):\n",
    "    # term is passed by-name, and so is i\n",
    "    temp = 0\n",
    "    i.value = lo\n",
    "    while i.value <= hi:  # Python \"for\" loop creates a distinct which\n",
    "        temp += term() # would not be shared with the passed \"i\"\n",
    "        i.value += 1   # Here the actual passed \"i\" is incremented.\n",
    "    return temp\n",
    " \n",
    "i = Ref()\n",
    " \n",
    "# note the correspondence between the mathematical notation and the\n",
    "# call to sum it's almost as good as sum(1/i for i in range(1,101))\n",
    "\n",
    "print(harmonic_sum(i, 1, 100, lambda: 1.0/i.value))"
   ]
  },
  {
   "cell_type": "code",
   "execution_count": 213,
   "metadata": {},
   "outputs": [
    {
     "name": "stdout",
     "output_type": "stream",
     "text": [
      "True\n"
     ]
    }
   ],
   "source": [
    "def double(n):\n",
    "    return n * 2\n",
    "\n",
    "lambda_ver = lambda n: n * 2\n",
    "\n",
    "print(double(2) == lambda_ver(2))"
   ]
  },
  {
   "cell_type": "code",
   "execution_count": 218,
   "metadata": {},
   "outputs": [
    {
     "data": {
      "text/plain": [
       "array([ 54, 100,  90, 136])"
      ]
     },
     "execution_count": 218,
     "metadata": {},
     "output_type": "execute_result"
    }
   ],
   "source": [
    "a = lambda : n * 2\n",
    "a()"
   ]
  },
  {
   "cell_type": "code",
   "execution_count": 230,
   "metadata": {},
   "outputs": [
    {
     "data": {
      "text/plain": [
       "array([0.48, 0.24, 0.16, 0.12])"
      ]
     },
     "execution_count": 230,
     "metadata": {},
     "output_type": "execute_result"
    }
   ],
   "source": [
    "a = np.array([-1, -2, -3, -4])\n",
    "((1 / a) / np.sum(a)) / np.sum((1 / a) / np.sum(a))"
   ]
  },
  {
   "cell_type": "code",
   "execution_count": 236,
   "metadata": {},
   "outputs": [
    {
     "name": "stdout",
     "output_type": "stream",
     "text": [
      "[0.9 0.8 0.6 0.5]\n",
      "2.8000000000000003\n",
      "2.8\n"
     ]
    }
   ],
   "source": [
    "R = 1\n",
    "q = np.array([0.1, 0.2, 0.4, 0.5])\n",
    "\n",
    "print(R - q)\n",
    "print(np.sum(R - q))\n",
    "print(4 - np.sum(q))"
   ]
  },
  {
   "cell_type": "code",
   "execution_count": null,
   "metadata": {
    "collapsed": true
   },
   "outputs": [],
   "source": [
    "a1 = []\n",
    "a2 = []\n",
    "\n",
    "alpha_1 = 0.1\n",
    "a = 2\n",
    "b = 1\n",
    "q_value = np.aragnge(-1, 3, 0.1)\n",
    "for i in q_value:\n",
    "    a1.append(alpha_1 * min(max(a - i, 1e-3)**b, 1))\n",
    "    a2.append(min(alpha_1 * max(a - i, 1e-3)**b, 1))\n",
    "    \n",
    "plt.plot(a1)\n",
    "plt.show()\n",
    "\n",
    "plt.plot(a2)\n",
    "plt.show()"
   ]
  },
  {
   "cell_type": "code",
   "execution_count": null,
   "metadata": {
    "collapsed": true
   },
   "outputs": [],
   "source": []
  }
 ],
 "metadata": {
  "kernelspec": {
   "display_name": "Python 3",
   "language": "python",
   "name": "python3"
  },
  "language_info": {
   "codemirror_mode": {
    "name": "ipython",
    "version": 3
   },
   "file_extension": ".py",
   "mimetype": "text/x-python",
   "name": "python",
   "nbconvert_exporter": "python",
   "pygments_lexer": "ipython3",
   "version": "3.6.8"
  }
 },
 "nbformat": 4,
 "nbformat_minor": 2
}
